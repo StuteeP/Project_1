{
  "cells": [
    {
      "cell_type": "code",
      "execution_count": 1,
      "metadata": {
        "id": "nphmtFCimJ67"
      },
      "outputs": [],
      "source": [
        "import pandas as pd\n",
        "users = pd.read_csv(\"/content/users.csv\")"
      ]
    },
    {
      "cell_type": "code",
      "execution_count": 3,
      "metadata": {
        "id": "5soCoLsymYao"
      },
      "outputs": [],
      "source": [
        "sorted_df = users.sort_values(by='followers', ascending=False)"
      ]
    },
    {
      "cell_type": "code",
      "execution_count": 41,
      "metadata": {
        "id": "H6bA6utVmwxH"
      },
      "outputs": [],
      "source": [
        "users['created_at'] = pd.to_datetime(users['created_at'])\n",
        "earliest_users = users.nsmallest(5, 'created_at')"
      ]
    },
    {
      "cell_type": "code",
      "execution_count": 42,
      "metadata": {
        "colab": {
          "base_uri": "https://localhost:8080/",
          "height": 365
        },
        "id": "aVqknjrpxAja",
        "outputId": "6b68bae7-9515-47b9-8755-201c6f36e09b"
      },
      "outputs": [
        {
          "data": {
            "application/vnd.google.colaboratory.intrinsic+json": {
              "summary": "{\n  \"name\": \"earliest_users\",\n  \"rows\": 5,\n  \"fields\": [\n    {\n      \"column\": \"login\",\n      \"properties\": {\n        \"dtype\": \"string\",\n        \"num_unique_values\": 5,\n        \"samples\": [\n          \"kakutani\",\n          \"walf443\",\n          \"mootoh\"\n        ],\n        \"semantic_type\": \"\",\n        \"description\": \"\"\n      }\n    },\n    {\n      \"column\": \"name\",\n      \"properties\": {\n        \"dtype\": \"string\",\n        \"num_unique_values\": 5,\n        \"samples\": [\n          \"Kakutani Shintaro\",\n          \"Keiji, Yoshimi\",\n          \"Motohiro Takayama\"\n        ],\n        \"semantic_type\": \"\",\n        \"description\": \"\"\n      }\n    },\n    {\n      \"column\": \"company\",\n      \"properties\": {\n        \"dtype\": \"string\",\n        \"num_unique_values\": 4,\n        \"samples\": [\n          \"NEWMO, INC\",\n          \"PIXIV\",\n          \"FREELANCE, RUBY-NO-KAI\"\n        ],\n        \"semantic_type\": \"\",\n        \"description\": \"\"\n      }\n    },\n    {\n      \"column\": \"location\",\n      \"properties\": {\n        \"dtype\": \"category\",\n        \"num_unique_values\": 2,\n        \"samples\": [\n          \"Tokyo\",\n          \"Tokyo, Japan\"\n        ],\n        \"semantic_type\": \"\",\n        \"description\": \"\"\n      }\n    },\n    {\n      \"column\": \"email\",\n      \"properties\": {\n        \"dtype\": \"string\",\n        \"num_unique_values\": 3,\n        \"samples\": [\n          \"shintaro@kakutani.com\",\n          \"mootoh@gmail.com\"\n        ],\n        \"semantic_type\": \"\",\n        \"description\": \"\"\n      }\n    },\n    {\n      \"column\": \"hireable\",\n      \"properties\": {\n        \"dtype\": \"category\",\n        \"num_unique_values\": 2,\n        \"samples\": [\n          \"none\",\n          \"true\"\n        ],\n        \"semantic_type\": \"\",\n        \"description\": \"\"\n      }\n    },\n    {\n      \"column\": \"bio\",\n      \"properties\": {\n        \"dtype\": \"string\",\n        \"num_unique_values\": 3,\n        \"samples\": [\n          \"To Vim, or not to Vim.\",\n          \"a plain-old agile rubyist-ist. keeb zombie.\\r\\n\"\n        ],\n        \"semantic_type\": \"\",\n        \"description\": \"\"\n      }\n    },\n    {\n      \"column\": \"public_repos\",\n      \"properties\": {\n        \"dtype\": \"number\",\n        \"std\": 47,\n        \"min\": 57,\n        \"max\": 168,\n        \"num_unique_values\": 5,\n        \"samples\": [\n          57,\n          168\n        ],\n        \"semantic_type\": \"\",\n        \"description\": \"\"\n      }\n    },\n    {\n      \"column\": \"followers\",\n      \"properties\": {\n        \"dtype\": \"number\",\n        \"std\": 333,\n        \"min\": 215,\n        \"max\": 982,\n        \"num_unique_values\": 5,\n        \"samples\": [\n          523,\n          227\n        ],\n        \"semantic_type\": \"\",\n        \"description\": \"\"\n      }\n    },\n    {\n      \"column\": \"following\",\n      \"properties\": {\n        \"dtype\": \"number\",\n        \"std\": 229,\n        \"min\": 47,\n        \"max\": 563,\n        \"num_unique_values\": 5,\n        \"samples\": [\n          47,\n          334\n        ],\n        \"semantic_type\": \"\",\n        \"description\": \"\"\n      }\n    },\n    {\n      \"column\": \"created_at\",\n      \"properties\": {\n        \"dtype\": \"date\",\n        \"min\": \"2008-02-29 17:09:01\",\n        \"max\": \"2008-03-09 22:42:01\",\n        \"num_unique_values\": 5,\n        \"samples\": [\n          \"2008-03-04 17:11:22\",\n          \"2008-03-09 22:42:01\"\n        ],\n        \"semantic_type\": \"\",\n        \"description\": \"\"\n      }\n    },\n    {\n      \"column\": \"leader_strength\",\n      \"properties\": {\n        \"dtype\": \"number\",\n        \"std\": 4.02837624605727,\n        \"min\": 0.6776119402985075,\n        \"max\": 10.895833333333334,\n        \"num_unique_values\": 5,\n        \"samples\": [\n          10.895833333333334,\n          0.6776119402985075\n        ],\n        \"semantic_type\": \"\",\n        \"description\": \"\"\n      }\n    },\n    {\n      \"column\": \"bio_word_count\",\n      \"properties\": {\n        \"dtype\": \"number\",\n        \"std\": 3,\n        \"min\": 0,\n        \"max\": 6,\n        \"num_unique_values\": 3,\n        \"samples\": [\n          6,\n          0\n        ],\n        \"semantic_type\": \"\",\n        \"description\": \"\"\n      }\n    }\n  ]\n}",
              "type": "dataframe",
              "variable_name": "earliest_users"
            },
            "text/html": [
              "\n",
              "  <div id=\"df-5bade230-b500-4ff2-bbf8-900e2d49db95\" class=\"colab-df-container\">\n",
              "    <div>\n",
              "<style scoped>\n",
              "    .dataframe tbody tr th:only-of-type {\n",
              "        vertical-align: middle;\n",
              "    }\n",
              "\n",
              "    .dataframe tbody tr th {\n",
              "        vertical-align: top;\n",
              "    }\n",
              "\n",
              "    .dataframe thead th {\n",
              "        text-align: right;\n",
              "    }\n",
              "</style>\n",
              "<table border=\"1\" class=\"dataframe\">\n",
              "  <thead>\n",
              "    <tr style=\"text-align: right;\">\n",
              "      <th></th>\n",
              "      <th>login</th>\n",
              "      <th>name</th>\n",
              "      <th>company</th>\n",
              "      <th>location</th>\n",
              "      <th>email</th>\n",
              "      <th>hireable</th>\n",
              "      <th>bio</th>\n",
              "      <th>public_repos</th>\n",
              "      <th>followers</th>\n",
              "      <th>following</th>\n",
              "      <th>created_at</th>\n",
              "      <th>leader_strength</th>\n",
              "      <th>bio_word_count</th>\n",
              "    </tr>\n",
              "  </thead>\n",
              "  <tbody>\n",
              "    <tr>\n",
              "      <th>375</th>\n",
              "      <td>kana</td>\n",
              "      <td>Kana Natsuno</td>\n",
              "      <td>NaN</td>\n",
              "      <td>Tokyo, Japan</td>\n",
              "      <td>NaN</td>\n",
              "      <td>true</td>\n",
              "      <td>To Vim, or not to Vim.</td>\n",
              "      <td>142</td>\n",
              "      <td>982</td>\n",
              "      <td>563</td>\n",
              "      <td>2008-02-29 17:09:01</td>\n",
              "      <td>1.741135</td>\n",
              "      <td>6</td>\n",
              "    </tr>\n",
              "    <tr>\n",
              "      <th>466</th>\n",
              "      <td>kakutani</td>\n",
              "      <td>Kakutani Shintaro</td>\n",
              "      <td>FREELANCE, RUBY-NO-KAI</td>\n",
              "      <td>Tokyo, Japan</td>\n",
              "      <td>shintaro@kakutani.com</td>\n",
              "      <td>true</td>\n",
              "      <td>a plain-old agile rubyist-ist. keeb zombie.\\r\\n</td>\n",
              "      <td>57</td>\n",
              "      <td>523</td>\n",
              "      <td>47</td>\n",
              "      <td>2008-03-04 17:11:22</td>\n",
              "      <td>10.895833</td>\n",
              "      <td>6</td>\n",
              "    </tr>\n",
              "    <tr>\n",
              "      <th>172</th>\n",
              "      <td>mootoh</td>\n",
              "      <td>Motohiro Takayama</td>\n",
              "      <td>NEWMO, INC</td>\n",
              "      <td>Tokyo</td>\n",
              "      <td>mootoh@gmail.com</td>\n",
              "      <td>true</td>\n",
              "      <td>NaN</td>\n",
              "      <td>70</td>\n",
              "      <td>217</td>\n",
              "      <td>50</td>\n",
              "      <td>2008-03-07 09:57:53</td>\n",
              "      <td>4.254902</td>\n",
              "      <td>0</td>\n",
              "    </tr>\n",
              "    <tr>\n",
              "      <th>179</th>\n",
              "      <td>lhl</td>\n",
              "      <td>Leonard</td>\n",
              "      <td>AUGMXNT</td>\n",
              "      <td>Tokyo</td>\n",
              "      <td>NaN</td>\n",
              "      <td>none</td>\n",
              "      <td>Independent technologist</td>\n",
              "      <td>99</td>\n",
              "      <td>215</td>\n",
              "      <td>73</td>\n",
              "      <td>2008-03-08 09:29:25</td>\n",
              "      <td>2.905405</td>\n",
              "      <td>2</td>\n",
              "    </tr>\n",
              "    <tr>\n",
              "      <th>145</th>\n",
              "      <td>walf443</td>\n",
              "      <td>Keiji, Yoshimi</td>\n",
              "      <td>PIXIV</td>\n",
              "      <td>Tokyo, Japan</td>\n",
              "      <td>walf443 at gmail dot com</td>\n",
              "      <td>none</td>\n",
              "      <td>NaN</td>\n",
              "      <td>168</td>\n",
              "      <td>227</td>\n",
              "      <td>334</td>\n",
              "      <td>2008-03-09 22:42:01</td>\n",
              "      <td>0.677612</td>\n",
              "      <td>0</td>\n",
              "    </tr>\n",
              "  </tbody>\n",
              "</table>\n",
              "</div>\n",
              "    <div class=\"colab-df-buttons\">\n",
              "\n",
              "  <div class=\"colab-df-container\">\n",
              "    <button class=\"colab-df-convert\" onclick=\"convertToInteractive('df-5bade230-b500-4ff2-bbf8-900e2d49db95')\"\n",
              "            title=\"Convert this dataframe to an interactive table.\"\n",
              "            style=\"display:none;\">\n",
              "\n",
              "  <svg xmlns=\"http://www.w3.org/2000/svg\" height=\"24px\" viewBox=\"0 -960 960 960\">\n",
              "    <path d=\"M120-120v-720h720v720H120Zm60-500h600v-160H180v160Zm220 220h160v-160H400v160Zm0 220h160v-160H400v160ZM180-400h160v-160H180v160Zm440 0h160v-160H620v160ZM180-180h160v-160H180v160Zm440 0h160v-160H620v160Z\"/>\n",
              "  </svg>\n",
              "    </button>\n",
              "\n",
              "  <style>\n",
              "    .colab-df-container {\n",
              "      display:flex;\n",
              "      gap: 12px;\n",
              "    }\n",
              "\n",
              "    .colab-df-convert {\n",
              "      background-color: #E8F0FE;\n",
              "      border: none;\n",
              "      border-radius: 50%;\n",
              "      cursor: pointer;\n",
              "      display: none;\n",
              "      fill: #1967D2;\n",
              "      height: 32px;\n",
              "      padding: 0 0 0 0;\n",
              "      width: 32px;\n",
              "    }\n",
              "\n",
              "    .colab-df-convert:hover {\n",
              "      background-color: #E2EBFA;\n",
              "      box-shadow: 0px 1px 2px rgba(60, 64, 67, 0.3), 0px 1px 3px 1px rgba(60, 64, 67, 0.15);\n",
              "      fill: #174EA6;\n",
              "    }\n",
              "\n",
              "    .colab-df-buttons div {\n",
              "      margin-bottom: 4px;\n",
              "    }\n",
              "\n",
              "    [theme=dark] .colab-df-convert {\n",
              "      background-color: #3B4455;\n",
              "      fill: #D2E3FC;\n",
              "    }\n",
              "\n",
              "    [theme=dark] .colab-df-convert:hover {\n",
              "      background-color: #434B5C;\n",
              "      box-shadow: 0px 1px 3px 1px rgba(0, 0, 0, 0.15);\n",
              "      filter: drop-shadow(0px 1px 2px rgba(0, 0, 0, 0.3));\n",
              "      fill: #FFFFFF;\n",
              "    }\n",
              "  </style>\n",
              "\n",
              "    <script>\n",
              "      const buttonEl =\n",
              "        document.querySelector('#df-5bade230-b500-4ff2-bbf8-900e2d49db95 button.colab-df-convert');\n",
              "      buttonEl.style.display =\n",
              "        google.colab.kernel.accessAllowed ? 'block' : 'none';\n",
              "\n",
              "      async function convertToInteractive(key) {\n",
              "        const element = document.querySelector('#df-5bade230-b500-4ff2-bbf8-900e2d49db95');\n",
              "        const dataTable =\n",
              "          await google.colab.kernel.invokeFunction('convertToInteractive',\n",
              "                                                    [key], {});\n",
              "        if (!dataTable) return;\n",
              "\n",
              "        const docLinkHtml = 'Like what you see? Visit the ' +\n",
              "          '<a target=\"_blank\" href=https://colab.research.google.com/notebooks/data_table.ipynb>data table notebook</a>'\n",
              "          + ' to learn more about interactive tables.';\n",
              "        element.innerHTML = '';\n",
              "        dataTable['output_type'] = 'display_data';\n",
              "        await google.colab.output.renderOutput(dataTable, element);\n",
              "        const docLink = document.createElement('div');\n",
              "        docLink.innerHTML = docLinkHtml;\n",
              "        element.appendChild(docLink);\n",
              "      }\n",
              "    </script>\n",
              "  </div>\n",
              "\n",
              "\n",
              "<div id=\"df-0a04dd89-6721-4d93-8e82-2d3f3d776170\">\n",
              "  <button class=\"colab-df-quickchart\" onclick=\"quickchart('df-0a04dd89-6721-4d93-8e82-2d3f3d776170')\"\n",
              "            title=\"Suggest charts\"\n",
              "            style=\"display:none;\">\n",
              "\n",
              "<svg xmlns=\"http://www.w3.org/2000/svg\" height=\"24px\"viewBox=\"0 0 24 24\"\n",
              "     width=\"24px\">\n",
              "    <g>\n",
              "        <path d=\"M19 3H5c-1.1 0-2 .9-2 2v14c0 1.1.9 2 2 2h14c1.1 0 2-.9 2-2V5c0-1.1-.9-2-2-2zM9 17H7v-7h2v7zm4 0h-2V7h2v10zm4 0h-2v-4h2v4z\"/>\n",
              "    </g>\n",
              "</svg>\n",
              "  </button>\n",
              "\n",
              "<style>\n",
              "  .colab-df-quickchart {\n",
              "      --bg-color: #E8F0FE;\n",
              "      --fill-color: #1967D2;\n",
              "      --hover-bg-color: #E2EBFA;\n",
              "      --hover-fill-color: #174EA6;\n",
              "      --disabled-fill-color: #AAA;\n",
              "      --disabled-bg-color: #DDD;\n",
              "  }\n",
              "\n",
              "  [theme=dark] .colab-df-quickchart {\n",
              "      --bg-color: #3B4455;\n",
              "      --fill-color: #D2E3FC;\n",
              "      --hover-bg-color: #434B5C;\n",
              "      --hover-fill-color: #FFFFFF;\n",
              "      --disabled-bg-color: #3B4455;\n",
              "      --disabled-fill-color: #666;\n",
              "  }\n",
              "\n",
              "  .colab-df-quickchart {\n",
              "    background-color: var(--bg-color);\n",
              "    border: none;\n",
              "    border-radius: 50%;\n",
              "    cursor: pointer;\n",
              "    display: none;\n",
              "    fill: var(--fill-color);\n",
              "    height: 32px;\n",
              "    padding: 0;\n",
              "    width: 32px;\n",
              "  }\n",
              "\n",
              "  .colab-df-quickchart:hover {\n",
              "    background-color: var(--hover-bg-color);\n",
              "    box-shadow: 0 1px 2px rgba(60, 64, 67, 0.3), 0 1px 3px 1px rgba(60, 64, 67, 0.15);\n",
              "    fill: var(--button-hover-fill-color);\n",
              "  }\n",
              "\n",
              "  .colab-df-quickchart-complete:disabled,\n",
              "  .colab-df-quickchart-complete:disabled:hover {\n",
              "    background-color: var(--disabled-bg-color);\n",
              "    fill: var(--disabled-fill-color);\n",
              "    box-shadow: none;\n",
              "  }\n",
              "\n",
              "  .colab-df-spinner {\n",
              "    border: 2px solid var(--fill-color);\n",
              "    border-color: transparent;\n",
              "    border-bottom-color: var(--fill-color);\n",
              "    animation:\n",
              "      spin 1s steps(1) infinite;\n",
              "  }\n",
              "\n",
              "  @keyframes spin {\n",
              "    0% {\n",
              "      border-color: transparent;\n",
              "      border-bottom-color: var(--fill-color);\n",
              "      border-left-color: var(--fill-color);\n",
              "    }\n",
              "    20% {\n",
              "      border-color: transparent;\n",
              "      border-left-color: var(--fill-color);\n",
              "      border-top-color: var(--fill-color);\n",
              "    }\n",
              "    30% {\n",
              "      border-color: transparent;\n",
              "      border-left-color: var(--fill-color);\n",
              "      border-top-color: var(--fill-color);\n",
              "      border-right-color: var(--fill-color);\n",
              "    }\n",
              "    40% {\n",
              "      border-color: transparent;\n",
              "      border-right-color: var(--fill-color);\n",
              "      border-top-color: var(--fill-color);\n",
              "    }\n",
              "    60% {\n",
              "      border-color: transparent;\n",
              "      border-right-color: var(--fill-color);\n",
              "    }\n",
              "    80% {\n",
              "      border-color: transparent;\n",
              "      border-right-color: var(--fill-color);\n",
              "      border-bottom-color: var(--fill-color);\n",
              "    }\n",
              "    90% {\n",
              "      border-color: transparent;\n",
              "      border-bottom-color: var(--fill-color);\n",
              "    }\n",
              "  }\n",
              "</style>\n",
              "\n",
              "  <script>\n",
              "    async function quickchart(key) {\n",
              "      const quickchartButtonEl =\n",
              "        document.querySelector('#' + key + ' button');\n",
              "      quickchartButtonEl.disabled = true;  // To prevent multiple clicks.\n",
              "      quickchartButtonEl.classList.add('colab-df-spinner');\n",
              "      try {\n",
              "        const charts = await google.colab.kernel.invokeFunction(\n",
              "            'suggestCharts', [key], {});\n",
              "      } catch (error) {\n",
              "        console.error('Error during call to suggestCharts:', error);\n",
              "      }\n",
              "      quickchartButtonEl.classList.remove('colab-df-spinner');\n",
              "      quickchartButtonEl.classList.add('colab-df-quickchart-complete');\n",
              "    }\n",
              "    (() => {\n",
              "      let quickchartButtonEl =\n",
              "        document.querySelector('#df-0a04dd89-6721-4d93-8e82-2d3f3d776170 button');\n",
              "      quickchartButtonEl.style.display =\n",
              "        google.colab.kernel.accessAllowed ? 'block' : 'none';\n",
              "    })();\n",
              "  </script>\n",
              "</div>\n",
              "\n",
              "  <div id=\"id_9abce5ac-4a83-4c1c-b2a8-13a43c2ce5d8\">\n",
              "    <style>\n",
              "      .colab-df-generate {\n",
              "        background-color: #E8F0FE;\n",
              "        border: none;\n",
              "        border-radius: 50%;\n",
              "        cursor: pointer;\n",
              "        display: none;\n",
              "        fill: #1967D2;\n",
              "        height: 32px;\n",
              "        padding: 0 0 0 0;\n",
              "        width: 32px;\n",
              "      }\n",
              "\n",
              "      .colab-df-generate:hover {\n",
              "        background-color: #E2EBFA;\n",
              "        box-shadow: 0px 1px 2px rgba(60, 64, 67, 0.3), 0px 1px 3px 1px rgba(60, 64, 67, 0.15);\n",
              "        fill: #174EA6;\n",
              "      }\n",
              "\n",
              "      [theme=dark] .colab-df-generate {\n",
              "        background-color: #3B4455;\n",
              "        fill: #D2E3FC;\n",
              "      }\n",
              "\n",
              "      [theme=dark] .colab-df-generate:hover {\n",
              "        background-color: #434B5C;\n",
              "        box-shadow: 0px 1px 3px 1px rgba(0, 0, 0, 0.15);\n",
              "        filter: drop-shadow(0px 1px 2px rgba(0, 0, 0, 0.3));\n",
              "        fill: #FFFFFF;\n",
              "      }\n",
              "    </style>\n",
              "    <button class=\"colab-df-generate\" onclick=\"generateWithVariable('earliest_users')\"\n",
              "            title=\"Generate code using this dataframe.\"\n",
              "            style=\"display:none;\">\n",
              "\n",
              "  <svg xmlns=\"http://www.w3.org/2000/svg\" height=\"24px\"viewBox=\"0 0 24 24\"\n",
              "       width=\"24px\">\n",
              "    <path d=\"M7,19H8.4L18.45,9,17,7.55,7,17.6ZM5,21V16.75L18.45,3.32a2,2,0,0,1,2.83,0l1.4,1.43a1.91,1.91,0,0,1,.58,1.4,1.91,1.91,0,0,1-.58,1.4L9.25,21ZM18.45,9,17,7.55Zm-12,3A5.31,5.31,0,0,0,4.9,8.1,5.31,5.31,0,0,0,1,6.5,5.31,5.31,0,0,0,4.9,4.9,5.31,5.31,0,0,0,6.5,1,5.31,5.31,0,0,0,8.1,4.9,5.31,5.31,0,0,0,12,6.5,5.46,5.46,0,0,0,6.5,12Z\"/>\n",
              "  </svg>\n",
              "    </button>\n",
              "    <script>\n",
              "      (() => {\n",
              "      const buttonEl =\n",
              "        document.querySelector('#id_9abce5ac-4a83-4c1c-b2a8-13a43c2ce5d8 button.colab-df-generate');\n",
              "      buttonEl.style.display =\n",
              "        google.colab.kernel.accessAllowed ? 'block' : 'none';\n",
              "\n",
              "      buttonEl.onclick = () => {\n",
              "        google.colab.notebook.generateWithVariable('earliest_users');\n",
              "      }\n",
              "      })();\n",
              "    </script>\n",
              "  </div>\n",
              "\n",
              "    </div>\n",
              "  </div>\n"
            ],
            "text/plain": [
              "        login               name                 company      location  \\\n",
              "375      kana       Kana Natsuno                     NaN  Tokyo, Japan   \n",
              "466  kakutani  Kakutani Shintaro  FREELANCE, RUBY-NO-KAI  Tokyo, Japan   \n",
              "172    mootoh  Motohiro Takayama              NEWMO, INC         Tokyo   \n",
              "179       lhl            Leonard                 AUGMXNT         Tokyo   \n",
              "145   walf443     Keiji, Yoshimi                   PIXIV  Tokyo, Japan   \n",
              "\n",
              "                        email hireable  \\\n",
              "375                       NaN     true   \n",
              "466     shintaro@kakutani.com     true   \n",
              "172          mootoh@gmail.com     true   \n",
              "179                       NaN     none   \n",
              "145  walf443 at gmail dot com     none   \n",
              "\n",
              "                                                 bio  public_repos  followers  \\\n",
              "375                           To Vim, or not to Vim.           142        982   \n",
              "466  a plain-old agile rubyist-ist. keeb zombie.\\r\\n            57        523   \n",
              "172                                              NaN            70        217   \n",
              "179                         Independent technologist            99        215   \n",
              "145                                              NaN           168        227   \n",
              "\n",
              "     following          created_at  leader_strength  bio_word_count  \n",
              "375        563 2008-02-29 17:09:01         1.741135               6  \n",
              "466         47 2008-03-04 17:11:22        10.895833               6  \n",
              "172         50 2008-03-07 09:57:53         4.254902               0  \n",
              "179         73 2008-03-08 09:29:25         2.905405               2  \n",
              "145        334 2008-03-09 22:42:01         0.677612               0  "
            ]
          },
          "execution_count": 42,
          "metadata": {},
          "output_type": "execute_result"
        }
      ],
      "source": [
        "earliest_users"
      ]
    },
    {
      "cell_type": "code",
      "execution_count": 12,
      "metadata": {
        "id": "80HGpge0pDKk"
      },
      "outputs": [],
      "source": [
        "repo = pd.read_csv(\"/content/repositories.csv\")"
      ]
    },
    {
      "cell_type": "code",
      "execution_count": 13,
      "metadata": {
        "colab": {
          "base_uri": "https://localhost:8080/"
        },
        "id": "O7a_Syv6pMkZ",
        "outputId": "c8aec065-6d5a-46e1-a9d3-76c62786ef27"
      },
      "outputs": [
        {
          "name": "stdout",
          "output_type": "stream",
          "text": [
            "MIT License: 845\n",
            "Other: 214\n",
            "Apache License 2.0: 189\n"
          ]
        }
      ],
      "source": [
        "valid_licenses = repo[repo['license_name'].notnull()]\n",
        "license_counts = valid_licenses['license_name'].value_counts()\n",
        "top_licenses = license_counts.head(3)\n",
        "top_licenses_list = list(zip(top_licenses.index, top_licenses.values))\n",
        "\n",
        "\n",
        "for license_name, count in top_licenses_list:\n",
        "    print(f\"{license_name}: {count}\")"
      ]
    },
    {
      "cell_type": "code",
      "execution_count": 14,
      "metadata": {
        "colab": {
          "base_uri": "https://localhost:8080/"
        },
        "id": "LhlwY0dOpote",
        "outputId": "330d23d6-344f-4b4d-fa36-0574591071a6"
      },
      "outputs": [
        {
          "name": "stdout",
          "output_type": "stream",
          "text": [
            "The majority of developers work at: GOOGLE (Count: 12)\n"
          ]
        }
      ],
      "source": [
        "company_counts = users['company'].value_counts()\n",
        "most_common_company = company_counts.idxmax()\n",
        "most_common_count = company_counts.max()\n",
        "\n",
        "print(f\"The majority of developers work at: {most_common_company} (Count: {most_common_count})\")"
      ]
    },
    {
      "cell_type": "code",
      "execution_count": 15,
      "metadata": {
        "colab": {
          "base_uri": "https://localhost:8080/"
        },
        "id": "PZaOURYZp5eV",
        "outputId": "5f8e2508-4288-4bde-af31-d9af1ebb8cd1"
      },
      "outputs": [
        {
          "name": "stdout",
          "output_type": "stream",
          "text": [
            "The most popular programming language among these users is: JavaScript (Count: 343)\n"
          ]
        }
      ],
      "source": [
        "language_counts = repo['language'].value_counts()\n",
        "most_popular_language = language_counts.idxmax()\n",
        "most_popular_count = language_counts.max()\n",
        "\n",
        "print(f\"The most popular programming language among these users is: {most_popular_language} (Count: {most_popular_count})\")"
      ]
    },
    {
      "cell_type": "code",
      "execution_count": 16,
      "metadata": {
        "colab": {
          "base_uri": "https://localhost:8080/"
        },
        "id": "7BVfB181qOHM",
        "outputId": "c5e7f925-6b85-4058-d7f6-30dadc292001"
      },
      "outputs": [
        {
          "name": "stdout",
          "output_type": "stream",
          "text": [
            "The second most popular programming language among users who joined after 2020 is: JavaScript (Count: 7)\n"
          ]
        }
      ],
      "source": [
        "users['created_at'] = pd.to_datetime(users['created_at'])\n",
        "recent_users = users[users['created_at'] > '2020-01-01']\n",
        "recent_logins = recent_users['login'].unique()\n",
        "recent_repos = repo[repo['login'].isin(recent_logins)]\n",
        "language_counts = recent_repos['language'].value_counts()\n",
        "if len(language_counts) >= 2:\n",
        "    second_most_popular_language = language_counts.index[1]\n",
        "    second_most_popular_count = language_counts.values[1]\n",
        "else:\n",
        "    second_most_popular_language = None\n",
        "    second_most_popular_count = 0\n",
        "\n",
        "\n",
        "if second_most_popular_language:\n",
        "    print(f\"The second most popular programming language among users who joined after 2020 is: {second_most_popular_language} (Count: {second_most_popular_count})\")\n",
        "else:\n",
        "    print(\"Not enough data to determine the second most popular programming language.\")"
      ]
    },
    {
      "cell_type": "code",
      "execution_count": 17,
      "metadata": {
        "colab": {
          "base_uri": "https://localhost:8080/"
        },
        "id": "N82nEGGEqsNt",
        "outputId": "38607ecc-a32f-4675-cd99-d3c5341d70c6"
      },
      "outputs": [
        {
          "name": "stdout",
          "output_type": "stream",
          "text": [
            "The programming language with the highest average number of stars per repository is: PHP (Average Stars: 15479.00)\n"
          ]
        }
      ],
      "source": [
        "average_stars_per_language = repo.groupby('language')['stargazers_count'].mean()\n",
        "highest_average_language = average_stars_per_language.idxmax()\n",
        "highest_average_stars = average_stars_per_language.max()\n",
        "print(f\"The programming language with the highest average number of stars per repository is: {highest_average_language} (Average Stars: {highest_average_stars:.2f})\")"
      ]
    },
    {
      "cell_type": "code",
      "execution_count": 18,
      "metadata": {
        "colab": {
          "base_uri": "https://localhost:8080/"
        },
        "id": "ZmaRVvjoq5OM",
        "outputId": "471ebb65-9ffb-4e7c-c5ce-cf571e7c72ef"
      },
      "outputs": [
        {
          "name": "stdout",
          "output_type": "stream",
          "text": [
            "Top 5 users by leader_strength:\n",
            "              login              name  leader_strength\n",
            "484         blueimp  Sebastian Tschan           4044.0\n",
            "476         dai-shi       Daishi Kato           3467.5\n",
            "489       asahilina        Asahi Lina           3006.0\n",
            "494  pilcrowonpaper           pilcrow           2607.0\n",
            "481          marcan     Hector Martin           2281.5\n"
          ]
        }
      ],
      "source": [
        "users['leader_strength'] = users['followers'] / (1 + users['following'])\n",
        "top_leaders = users.nlargest(5, 'leader_strength')\n",
        "top_leaders_info = top_leaders[['login', 'name', 'leader_strength']]\n",
        "print(\"Top 5 users by leader_strength:\")\n",
        "print(top_leaders_info)"
      ]
    },
    {
      "cell_type": "code",
      "execution_count": 19,
      "metadata": {
        "colab": {
          "base_uri": "https://localhost:8080/"
        },
        "id": "vWcwoVGnrTp5",
        "outputId": "0f011b2d-d85a-486c-da46-e5fbde6f5614"
      },
      "outputs": [
        {
          "name": "stdout",
          "output_type": "stream",
          "text": [
            "Correlation between followers and public repositories in Tokyo: 0.053\n"
          ]
        }
      ],
      "source": [
        "correlation = users['followers'].corr(users['public_repos'])\n",
        "print(f\"Correlation between followers and public repositories in Tokyo: {correlation:.3f}\")"
      ]
    },
    {
      "cell_type": "code",
      "execution_count": 22,
      "metadata": {
        "colab": {
          "base_uri": "https://localhost:8080/"
        },
        "id": "HHRpbOUyrhM_",
        "outputId": "a8b55751-6651-4980-e8bd-713f54fd0428"
      },
      "outputs": [
        {
          "name": "stdout",
          "output_type": "stream",
          "text": [
            "Requirement already satisfied: pandas in /usr/local/lib/python3.10/dist-packages (2.2.2)\n",
            "Requirement already satisfied: statsmodels in /usr/local/lib/python3.10/dist-packages (0.14.4)\n",
            "Requirement already satisfied: numpy>=1.22.4 in /usr/local/lib/python3.10/dist-packages (from pandas) (1.26.4)\n",
            "Requirement already satisfied: python-dateutil>=2.8.2 in /usr/local/lib/python3.10/dist-packages (from pandas) (2.8.2)\n",
            "Requirement already satisfied: pytz>=2020.1 in /usr/local/lib/python3.10/dist-packages (from pandas) (2024.2)\n",
            "Requirement already satisfied: tzdata>=2022.7 in /usr/local/lib/python3.10/dist-packages (from pandas) (2024.2)\n",
            "Requirement already satisfied: scipy!=1.9.2,>=1.8 in /usr/local/lib/python3.10/dist-packages (from statsmodels) (1.13.1)\n",
            "Requirement already satisfied: patsy>=0.5.6 in /usr/local/lib/python3.10/dist-packages (from statsmodels) (0.5.6)\n",
            "Requirement already satisfied: packaging>=21.3 in /usr/local/lib/python3.10/dist-packages (from statsmodels) (24.1)\n",
            "Requirement already satisfied: six in /usr/local/lib/python3.10/dist-packages (from patsy>=0.5.6->statsmodels) (1.16.0)\n",
            "Estimated additional followers per additional public repository: 0.289\n"
          ]
        }
      ],
      "source": [
        "!pip install pandas statsmodels\n",
        "import pandas as pd\n",
        "import statsmodels.api as sm\n",
        "\n",
        "X = users['public_repos']\n",
        "Y = users['followers']\n",
        "\n",
        "X = sm.add_constant(X)\n",
        "model = sm.OLS(Y, X).fit()\n",
        "summary = model.summary()\n",
        "followers_per_repo = model.params['public_repos']\n",
        "print(f\"Estimated additional followers per additional public repository: {followers_per_repo:.3f}\")"
      ]
    },
    {
      "cell_type": "code",
      "execution_count": 24,
      "metadata": {
        "colab": {
          "base_uri": "https://localhost:8080/"
        },
        "id": "EQtpqZo5r63b",
        "outputId": "7013e6a1-8f8e-4b40-d679-bc12e2d30f1a"
      },
      "outputs": [
        {
          "name": "stdout",
          "output_type": "stream",
          "text": [
            "Correlation between projects enabled and wiki enabled: 0.548\n"
          ]
        }
      ],
      "source": [
        "repo['has_projects'] = repo['has_projects'].astype(int)\n",
        "repo['has_wiki'] = repo['has_wiki'].astype(int)\n",
        "correlation = repo['has_projects'].corr(repo['has_wiki'])\n",
        "\n",
        "\n",
        "print(f\"Correlation between projects enabled and wiki enabled: {correlation:.3f}\")"
      ]
    },
    {
      "cell_type": "code",
      "execution_count": 34,
      "metadata": {
        "colab": {
          "base_uri": "https://localhost:8080/"
        },
        "id": "iDPTbwi4stfo",
        "outputId": "5a66c09c-98dc-48d0-90e8-9aa54f00d378"
      },
      "outputs": [
        {
          "name": "stdout",
          "output_type": "stream",
          "text": [
            "Average following for hireable users minus average following for non-hireable users: -80.07290493440078\n"
          ]
        }
      ],
      "source": [
        "average_following_hireable = users[users['hireable'] == 'true']['following'].mean()\n",
        "average_following_non_hireable = users[users['hireable'] == 'none']['following'].mean()\n",
        "average_difference = average_following_hireable - average_following_non_hireable\n",
        "\n",
        "\n",
        "print(f\"Average following for hireable users minus average following for non-hireable users: {average_difference}\")"
      ]
    },
    {
      "cell_type": "code",
      "execution_count": 30,
      "metadata": {
        "colab": {
          "base_uri": "https://localhost:8080/"
        },
        "id": "-XvV9EmmtPDp",
        "outputId": "387d2d9a-5ff9-4e62-f407-5cc8f5cca3b0"
      },
      "outputs": [
        {
          "data": {
            "text/plain": [
              "180.43956043956044"
            ]
          },
          "execution_count": 30,
          "metadata": {},
          "output_type": "execute_result"
        }
      ],
      "source": [
        "average_following_hireable"
      ]
    },
    {
      "cell_type": "code",
      "execution_count": 31,
      "metadata": {
        "colab": {
          "base_uri": "https://localhost:8080/"
        },
        "id": "pXXhLwjPteuK",
        "outputId": "75a4e636-0014-4d7f-b3f5-683a838fd05b"
      },
      "outputs": [
        {
          "data": {
            "text/plain": [
              "nan"
            ]
          },
          "execution_count": 31,
          "metadata": {},
          "output_type": "execute_result"
        }
      ],
      "source": [
        "average_following_non_hireable"
      ]
    },
    {
      "cell_type": "code",
      "execution_count": 33,
      "metadata": {
        "colab": {
          "base_uri": "https://localhost:8080/"
        },
        "id": "zqgjNVIFtjPB",
        "outputId": "cb0f4b3c-14ca-4dda-81c6-6ad00bf26fbf"
      },
      "outputs": [
        {
          "data": {
            "text/plain": [
              "array(['none', 'true'], dtype=object)"
            ]
          },
          "execution_count": 33,
          "metadata": {},
          "output_type": "execute_result"
        }
      ],
      "source": [
        "users['hireable'].unique()"
      ]
    },
    {
      "cell_type": "code",
      "execution_count": 38,
      "metadata": {
        "colab": {
          "base_uri": "https://localhost:8080/"
        },
        "id": "_HTY36MQt7jx",
        "outputId": "bba2a3dc-12a3-4026-fbcd-96f1750bb80d"
      },
      "outputs": [
        {
          "name": "stdout",
          "output_type": "stream",
          "text": [
            "Correlation between bio word count and followers: 0.109\n",
            "Regression slope of followers on bio word count: 0.001\n"
          ]
        }
      ],
      "source": [
        "import pandas as pd\n",
        "import numpy as np\n",
        "from scipy import stats\n",
        "\n",
        "def word_count(string):\n",
        "    return len(string.split())\n",
        "users['bio_word_count'] = users['bio'].fillna('').apply(word_count)\n",
        "\n",
        "df_with_bio = users[users['bio_word_count'] > 0]\n",
        "\n",
        "correlation = df_with_bio['bio_word_count'].corr(df_with_bio['followers'])\n",
        "\n",
        "slope, intercept, r_value, p_value, std_err = stats.linregress(df_with_bio['bio_word_count'], df_with_bio['followers'])\n",
        "\n",
        "print(f\"Correlation between bio word count and followers: {correlation:.3f}\")\n",
        "print(f\"Regression slope of followers on bio word count: {slope:.3f}\")\n"
      ]
    },
    {
      "cell_type": "code",
      "execution_count": 44,
      "metadata": {
        "colab": {
          "base_uri": "https://localhost:8080/"
        },
        "id": "N4HDRjUSyhk1",
        "outputId": "94bbfc8e-e90d-40e6-e6a7-b5f7d5133405"
      },
      "outputs": [
        {
          "name": "stdout",
          "output_type": "stream",
          "text": [
            "Fraction difference in users with email: 0.130\n"
          ]
        }
      ],
      "source": [
        "total_hireable = users[users['hireable'] == 'true'].shape[0]\n",
        "hireable_with_email = users[users['hireable'] == 'true']['email'].notna().sum()\n",
        "fraction_hireable_with_email = hireable_with_email / total_hireable if total_hireable > 0 else 0\n",
        "total_non_hireable = users[users['hireable'] == 'none'].shape[0]\n",
        "non_hireable_with_email = users[users['hireable'] == 'none']['email'].notna().sum()\n",
        "fraction_non_hireable_with_email = non_hireable_with_email / total_non_hireable if total_non_hireable > 0 else 0\n",
        "email_fraction_difference = fraction_hireable_with_email - fraction_non_hireable_with_email\n",
        "\n",
        "print(f\"Fraction difference in users with email: {email_fraction_difference:.3f}\")"
      ]
    },
    {
      "cell_type": "code",
      "execution_count": 45,
      "metadata": {
        "colab": {
          "base_uri": "https://localhost:8080/"
        },
        "id": "s1468LJ9y_QH",
        "outputId": "c5cb57d2-6124-4d62-ffaf-32e4787b0818"
      },
      "outputs": [
        {
          "name": "stdout",
          "output_type": "stream",
          "text": [
            "The most common surname(s): Kato, Tanaka\n"
          ]
        },
        {
          "name": "stderr",
          "output_type": "stream",
          "text": [
            "<ipython-input-45-22239cf302db>:4: SettingWithCopyWarning: \n",
            "A value is trying to be set on a copy of a slice from a DataFrame.\n",
            "Try using .loc[row_indexer,col_indexer] = value instead\n",
            "\n",
            "See the caveats in the documentation: https://pandas.pydata.org/pandas-docs/stable/user_guide/indexing.html#returning-a-view-versus-a-copy\n",
            "  users_with_names['surname'] = users_with_names['name'].str.strip().str.split().str[-1]\n"
          ]
        }
      ],
      "source": [
        "users_with_names = users[users['name'].notna()]\n",
        "users_with_names['surname'] = users_with_names['name'].str.strip().str.split().str[-1]\n",
        "surname_counts = users_with_names['surname'].value_counts()\n",
        "max_count = surname_counts.max()\n",
        "most_common_surnames = surname_counts[surname_counts == max_count].index.tolist()\n",
        "most_common_surnames.sort()\n",
        "result = ', '.join(most_common_surnames)\n",
        "\n",
        "\n",
        "print(f\"The most common surname(s): {result}\")"
      ]
    },
    {
      "cell_type": "code",
      "execution_count": 54,
      "metadata": {
        "colab": {
          "base_uri": "https://localhost:8080/"
        },
        "id": "__YRqoZJ000a",
        "outputId": "de1546d7-e8fe-454e-e2ab-2badf57d7581"
      },
      "outputs": [
        {
          "name": "stdout",
          "output_type": "stream",
          "text": [
            "azu,hajimehoshi,kishikawakatsumi,kazupon,privatenumber\n"
          ]
        }
      ],
      "source": [
        "import pandas as pd\n",
        "\n",
        "df = pd.read_csv('repositories.csv')\n",
        "df['created_at'] = pd.to_datetime(df['created_at'])\n",
        "df['day_of_week'] = df['created_at'].dt.dayofweek\n",
        "weekend_repos = df[df['day_of_week'].isin([5, 6])]\n",
        "weekend_counts = weekend_repos['login'].value_counts()\n",
        "top_5_users = weekend_counts.head(5).index.tolist()\n",
        "\n",
        "result = ','.join(top_5_users)\n",
        "print(result)"
      ]
    },
    {
      "cell_type": "code",
      "execution_count": 58,
      "metadata": {
        "colab": {
          "base_uri": "https://localhost:8080/"
        },
        "id": "4FbhKFA11mFG",
        "outputId": "d3953237-7be4-47bc-d81c-2833745983e5"
      },
      "outputs": [
        {
          "name": "stdout",
          "output_type": "stream",
          "text": [
            "18.9406997\n"
          ]
        }
      ],
      "source": [
        "import pandas as pd\n",
        "import numpy as np\n",
        "from scipy import stats\n",
        "\n",
        "\n",
        "df = pd.read_csv('users.csv')\n",
        "\n",
        "\n",
        "def word_count(bio):\n",
        "    if pd.isna(bio):\n",
        "        return 0\n",
        "    return len(str(bio).split())\n",
        "\n",
        "\n",
        "df['bio_words'] = df['bio'].apply(word_count)\n",
        "\n",
        "\n",
        "df_with_bio = df[df['bio_words'] > 0]\n",
        "\n",
        "\n",
        "slope, intercept, r_value, p_value, std_err = stats.linregress(\n",
        "    df_with_bio['bio_words'],\n",
        "    df_with_bio['followers']\n",
        ")\n",
        "\n",
        "print(f\"{slope:.7f}\")"
      ]
    },
    {
      "cell_type": "code",
      "execution_count": 66,
      "metadata": {
        "colab": {
          "base_uri": "https://localhost:8080/"
        },
        "id": "WZnOYZBp198w",
        "outputId": "a073dd20-2331-4586-946e-3817d4b0bcb5"
      },
      "outputs": [
        {
          "name": "stdout",
          "output_type": "stream",
          "text": [
            "Correlation: 0.548\n"
          ]
        }
      ],
      "source": [
        "import pandas as pd\n",
        "import numpy as np\n",
        "\n",
        "\n",
        "df = pd.read_csv('/content/repositories.csv')\n",
        "contingency_table = pd.crosstab(df['has_projects'], df['has_wiki'])\n",
        "n = contingency_table.sum().sum()\n",
        "t = contingency_table.values\n",
        "\n",
        "chi2 = (n * (t[0,0]*t[1,1] - t[0,1]*t[1,0])**2) / ((t[0,0]+t[0,1]) * (t[0,0]+t[1,0]) * (t[1,0]+t[1,1]) * (t[0,1]+t[1,1]))\n",
        "phi = np.sqrt(chi2 / n)\n",
        "\n",
        "if (t[0,0]*t[1,1]) < (t[0,1]*t[1,0]):\n",
        "    phi = -phi\n",
        "\n",
        "print(f\"Correlation: {phi:.3f}\")"
      ]
    }
  ],
  "metadata": {
    "colab": {
      "provenance": []
    },
    "kernelspec": {
      "display_name": "Python 3",
      "name": "python3"
    },
    "language_info": {
      "name": "python"
    }
  },
  "nbformat": 4,
  "nbformat_minor": 0
}
